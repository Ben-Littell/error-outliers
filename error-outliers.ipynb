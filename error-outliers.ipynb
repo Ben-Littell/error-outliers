{
 "cells": [
  {
   "cell_type": "code",
   "execution_count": 1,
   "id": "5cb29d9f",
   "metadata": {
    "_cell_guid": "b1076dfc-b9ad-4769-8c92-a6c4dae69d19",
    "_uuid": "8f2839f25d086af736a60e9eeb907d3b93b6e0e5",
    "execution": {
     "iopub.execute_input": "2022-11-28T17:12:19.710233Z",
     "iopub.status.busy": "2022-11-28T17:12:19.709538Z",
     "iopub.status.idle": "2022-11-28T17:12:19.720507Z",
     "shell.execute_reply": "2022-11-28T17:12:19.719550Z"
    },
    "papermill": {
     "duration": 0.017948,
     "end_time": "2022-11-28T17:12:19.722772",
     "exception": false,
     "start_time": "2022-11-28T17:12:19.704824",
     "status": "completed"
    },
    "tags": []
   },
   "outputs": [],
   "source": [
    "# This Python 3 environment comes with many helpful analytics libraries installed\n",
    "# It is defined by the kaggle/python Docker image: https://github.com/kaggle/docker-python\n",
    "# For example, here's several helpful packages to load\n",
    "\n",
    "import numpy as np # linear algebra\n",
    "import pandas as pd # data processing, CSV file I/O (e.g. pd.read_csv)\n",
    "\n",
    "# Input data files are available in the read-only \"../input/\" directory\n",
    "# For example, running this (by clicking run or pressing Shift+Enter) will list all files under the input directory\n",
    "\n",
    "import os\n",
    "for dirname, _, filenames in os.walk('/kaggle/input'):\n",
    "    for filename in filenames:\n",
    "        print(os.path.join(dirname, filename))\n",
    "\n",
    "# You can write up to 20GB to the current directory (/kaggle/working/) that gets preserved as output when you create a version using \"Save & Run All\" \n",
    "# You can also write temporary files to /kaggle/temp/, but they won't be saved outside of the current session"
   ]
  },
  {
   "cell_type": "code",
   "execution_count": 2,
   "id": "0c100322",
   "metadata": {
    "execution": {
     "iopub.execute_input": "2022-11-28T17:12:19.728194Z",
     "iopub.status.busy": "2022-11-28T17:12:19.727837Z",
     "iopub.status.idle": "2022-11-28T17:12:19.749362Z",
     "shell.execute_reply": "2022-11-28T17:12:19.748373Z"
    },
    "papermill": {
     "duration": 0.026429,
     "end_time": "2022-11-28T17:12:19.751491",
     "exception": false,
     "start_time": "2022-11-28T17:12:19.725062",
     "status": "completed"
    },
    "tags": []
   },
   "outputs": [],
   "source": [
    "import matplotlib.pyplot as plt\n",
    "import math\n",
    "import statistics as stats\n",
    "\n",
    "x = [1.0,2.0,4.0,6.0,5.0,6.0,9.0,8.0,11.0,12.0]\n",
    "y = [14.0,10.0,12.0,9.0,8.0,6.0,4.0,3.0,3.0,10.0]\n",
    "\n",
    "\n",
    "def corcoeff(xd, yd):\n",
    "    sigma1 = sigma_xy(xd, yd) * len(xd)\n",
    "    sigma2 = sum(xd)*sum(yd)\n",
    "    sigma3 = len(xd) * sum([val**2 for val in xd])\n",
    "    sigma4 = sum(xd)**2\n",
    "    sigma5 = len(yd) * sum([val**2 for val in yd])\n",
    "    sigma6 = sum(yd)**2\n",
    "    top = (sigma1 - sigma2)\n",
    "    bottom = (math.sqrt(sigma3-sigma4))*(math.sqrt(sigma5-sigma6))\n",
    "    return top/bottom\n",
    "    \n",
    "\n",
    "def sigma_xy(xd, yd):\n",
    "    nlist = []\n",
    "    for i in range(len(xd)):\n",
    "        nlist.append((xd[i]*yd[i]))\n",
    "    return sum(nlist)\n",
    "\n",
    "def least_sqrs(xd, yd):\n",
    "    matrix1 = [[sum(val**2 for val in xd), sum(xd)], [sum(xd), len(xd)]]\n",
    "    matrix2 = [sigma_xy(xd, yd), sum(yd)]\n",
    "    array1 = np.array(matrix1)\n",
    "    array2 = np.array(matrix2)\n",
    "    invarray1 = np.linalg.inv(array1)\n",
    "    solution = np.dot(invarray1, array2)\n",
    "    return solution\n",
    "\n",
    "def scatter_plot(data1, data2, slope, y_int):\n",
    "    y_vals = []\n",
    "    x_data = [min(data1), max(data1)]\n",
    "    for val in range(2):\n",
    "        ans = (slope * x_data[val]) + y_int\n",
    "        y_vals.append(ans)\n",
    "    plt.plot(x_data, y_vals, '-r')\n",
    "    plt.scatter(data1, data2)\n",
    "    plt.title('SCATTER PLOT')\n",
    "    plt.xlabel('X')\n",
    "    plt.ylabel('Y')\n",
    "    plt.text(x_data[1], y_vals[1], f'Y={round(slope)}*X+{round(y_int)}', color='g')\n",
    "    plt.show()\n"
   ]
  },
  {
   "cell_type": "code",
   "execution_count": 3,
   "id": "497de890",
   "metadata": {
    "execution": {
     "iopub.execute_input": "2022-11-28T17:12:19.756680Z",
     "iopub.status.busy": "2022-11-28T17:12:19.756369Z",
     "iopub.status.idle": "2022-11-28T17:12:19.971922Z",
     "shell.execute_reply": "2022-11-28T17:12:19.970769Z"
    },
    "papermill": {
     "duration": 0.220642,
     "end_time": "2022-11-28T17:12:19.974296",
     "exception": false,
     "start_time": "2022-11-28T17:12:19.753654",
     "status": "completed"
    },
    "tags": []
   },
   "outputs": [
    {
     "name": "stdout",
     "output_type": "stream",
     "text": [
      "[-0.68074324 12.25675676]\n",
      "-0.6474248537226269\n"
     ]
    },
    {
     "data": {
      "image/png": "[encoded data removed]",
      "text/plain": [
       "<Figure size 432x288 with 1 Axes>"
      ]
     },
     "metadata": {
      "needs_background": "light"
     },
     "output_type": "display_data"
    }
   ],
   "source": [
    "coeff = corcoeff(x, y)\n",
    "data2 = least_sqrs(x, y)\n",
    "print(data2)\n",
    "print(coeff)\n",
    "scatter_plot(x, y, data2[0], data2[1])"
   ]
  },
  {
   "cell_type": "code",
   "execution_count": 4,
   "id": "893d09e1",
   "metadata": {
    "execution": {
     "iopub.execute_input": "2022-11-28T17:12:19.980654Z",
     "iopub.status.busy": "2022-11-28T17:12:19.980347Z",
     "iopub.status.idle": "2022-11-28T17:12:19.988448Z",
     "shell.execute_reply": "2022-11-28T17:12:19.987136Z"
    },
    "papermill": {
     "duration": 0.014053,
     "end_time": "2022-11-28T17:12:19.990834",
     "exception": false,
     "start_time": "2022-11-28T17:12:19.976781",
     "status": "completed"
    },
    "tags": []
   },
   "outputs": [
    {
     "name": "stdout",
     "output_type": "stream",
     "text": [
      "([2.423986486486486, -0.8952702702702702, 2.4662162162162176, 0.8277027027027053, -0.8530405405405386, -2.1722972972972947, -2.130067567567563, -3.810810810810807, -1.7685810810810754, 5.9121621621621685], 2.842170943040401e-15, 2.9065461480097836)\n"
     ]
    }
   ],
   "source": [
    "def residuals(x, y, n=2):\n",
    "    mb = least_sqrs(x, y)\n",
    "    ys = [val*mb[0]+mb[1] for val in x]\n",
    "    r = [y[n]-ys[n] for n in range(len(y))]\n",
    "    mr = stats.mean(r)\n",
    "    stdr = stats.stdev(r)\n",
    "    return r, mr, stdr\n",
    "\n",
    "    \n",
    "print(residuals(x, y))"
   ]
  }
 ],
 "metadata": {
  "kernelspec": {
   "display_name": "Python 3",
   "language": "python",
   "name": "python3"
  },
  "language_info": {
   "codemirror_mode": {
    "name": "ipython",
    "version": 3
   },
   "file_extension": ".py",
   "mimetype": "text/x-python",
   "name": "python",
   "nbconvert_exporter": "python",
   "pygments_lexer": "ipython3",
   "version": "3.7.12"
  },
  "papermill": {
   "default_parameters": {},
   "duration": 8.487519,
   "end_time": "2022-11-28T17:12:20.513460",
   "environment_variables": {},
   "exception": null,
   "input_path": "__notebook__.ipynb",
   "output_path": "__notebook__.ipynb",
   "parameters": {},
   "start_time": "2022-11-28T17:12:12.025941",
   "version": "2.3.4"
  }
 },
 "nbformat": 4,
 "nbformat_minor": 5
}
